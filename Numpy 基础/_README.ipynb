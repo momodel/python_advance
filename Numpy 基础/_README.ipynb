{
 "cells": [
  {
   "cell_type": "markdown",
   "metadata": {},
   "source": [
    "## 1. 项目介绍\n",
    "\n",
    "欢迎大家来到 `Python系列课程`，你可以通过课件文档来从零基础开始学习Python。Talk is cheap，show me the code，在学习的同时，可以好好利用Mo平台完代码实践练习，边学边做才能更好地掌握呢。 划重点：对于Mo平台还不熟悉的同学，请参考[平台功能教程](https://momodel.cn/classroom/class?id=5c5696cd1afd9458d456bf54&type=doc)。 本部分的学习，有疑问的地方，可以在**讨论组**和**论坛**中进行求助哦，我们的课程Tutor会定期浏览问题为大家解答。关于**讨论组**和**论坛**的使用，详情请看下文`第3节`\n",
    "\n",
    "  - 目录结构:\n",
    "    - ```_README.md```*-----说明文档*\n",
    "    - ```***.ipynb```*-----课件文档*\n",
    "\n"
   ]
  },
  {
   "cell_type": "markdown",
   "metadata": {},
   "source": [
    "\n",
    "## 2. 环境简介\n",
    "\n",
    "你当前所在的页面 Notebook 是一个内嵌 JupyterLab 的在线类 IDE 编程环境，开发过程中可以使用页面右侧的 API 文档进行快速查询。Notebook 有以下主要功能：\n",
    "\n",
    "- [调用数据集、模块和代码块资源](https://momodel.cn/docs/#/zh-cn/%E5%A6%82%E4%BD%95%E5%AF%BC%E5%85%A5%E5%B9%B6%E4%BD%BF%E7%94%A8%E6%A8%A1%E5%9D%97%E5%92%8C%E6%95%B0%E6%8D%AE%E9%9B%86)\n",
    "- [多人代码协作](https://momodel.cn/docs/#/zh-cn/%E5%9C%A8Mo%E8%BF%90%E8%A1%8C%E4%BD%A0%E7%9A%84%E7%AC%AC%E4%B8%80%E6%AE%B5%E4%BB%A3%E7%A0%81?id=_7-%e4%bd%a0%e5%8f%af%e4%bb%a5%e9%82%80%e8%af%b7%e5%a5%bd%e5%8f%8b%e8%bf%9b%e8%a1%8c%e5%8d%8f%e4%bd%9c)\n",
    "\n",
    "- [简单部署](https://momodel.cn/docs/#/zh-cn/%E5%BC%80%E5%8F%91%E5%92%8C%E9%83%A8%E7%BD%B2%E4%B8%80%E4%B8%AA%E9%A1%B9%E7%9B%AE)\n",
    "\n",
    "快来动手试试吧！点击左侧工具栏的新建文件图标即可选择你需要的文件类型。\n",
    "\n",
    "<img src='https://imgbed.momodel.cn/006tNc79gy1g61agfcv23j31c30u0789.jpg' width=100% height=100%>\n",
    "\n",
    "\n",
    "\n",
    "左侧和右侧工具栏都可根据使用需要进行收合。\n",
    "<img src='https://imgbed.momodel.cn/collapse_tab.2019-09-06 11_07_44.gif' width=100% height=100%>"
   ]
  },
  {
   "cell_type": "markdown",
   "metadata": {},
   "source": [
    "## 3. 论坛与讨论组\n",
    "学习过程中遇到任何问题或者困难，你可以**论坛求助** \n",
    "<div class='insertContainerBox column'>\n",
    "<div class='insertItem' align=center><img src=\"https://user-images.githubusercontent.com/76433425/103738082-5cc40500-502e-11eb-8efc-dca70210c612.gif\" width=\"100%\"/></div>\n",
    "</div>\n",
    "或者在**聊天频道**发布到相关讨论组亦或是咨询Mo的工作人员\n",
    "<div class='insertContainerBox column'>\n",
    "<div class='insertItem' align=center><img src=\"https://user-images.githubusercontent.com/76433425/103738251-a0b70a00-502e-11eb-8f44-fa26063e6780.gif\" width=\"100%\"/></div>\n",
    "</div>\n",
    "\n"
   ]
  },
  {
   "cell_type": "markdown",
   "metadata": {},
   "source": [
    "## 4. 快捷键与代码补全\n",
    "Mo Notebook 已完全采用 Jupyter Notebook 的原生快捷键，并且支持 `tab` 代码补全。\n",
    "\n",
    "运行代码：`shift` + `enter` 或者 `shift` + `return`"
   ]
  },
  {
   "cell_type": "markdown",
   "metadata": {},
   "source": [
    "## 5. 常用指令介绍\n",
    "\n",
    "- 解压上传后的文件\n",
    "\n",
    "在 cell 中输入并运行以下命令：\n",
    "```!7zx file_name.zip```\n",
    "\n",
    "- 查看所有包（package）\n",
    "\n",
    "`!pip list --format=columns`\n",
    "\n",
    "- 检查是否已有某个包\n",
    "\n",
    "`!pip show package_name`\n",
    "\n",
    "- 安装缺失的包\n",
    "\n",
    "`!pip install package_name`\n",
    "\n",
    "- 更新已有的包\n",
    "\n",
    "`!pip install package_name --upgrade`\n",
    "\n",
    "\n",
    "- 使用包\n",
    "\n",
    "`import package_name`\n",
    "\n",
    "- 显示当前目录下的档案及目录\n",
    "\n",
    "`ls`\n",
    "\n",
    "- 使用引入的数据集\n",
    "\n",
    "数据集被引入后存放在 datasets 文件夹下，注意，这个文件夹是只读的，不可修改。如果需要修改，可在 Notebook 中使用\n",
    "\n",
    "`!cp -R ./datasets/<imported_dataset_dir>  ./<your_folder>`\n",
    "\n",
    "指令将其复制到其他文件夹后再编辑，对于引入的数据集中的 zip 文件，可使用\n",
    "\n",
    "`!7zx ./datasets/<imported_dataset_dir>/<XXX.zip> ./<your_folder>`\n",
    "\n",
    "指令解压缩到其他文件夹后使用"
   ]
  },
  {
   "cell_type": "markdown",
   "metadata": {},
   "source": [
    "## 6. 其他可参考资源\n",
    "- [帮助文档](https://momodel.cn/docs/#/)：基本页面介绍和常见问题都可以在里面找到\n",
    "- [平台功能教程](https://momodel.cn/classroom/class?id=5c5696cd1afd9458d456bf54&type=doc)：通过图文结合的 Notebook 详细介绍开发环境基本功能和操作\n"
   ]
  },
  {
   "cell_type": "code",
   "execution_count": null,
   "metadata": {},
   "outputs": [],
   "source": []
  }
 ],
 "metadata": {
  "kernelspec": {
   "display_name": "Python 3",
   "language": "python",
   "name": "python3"
  },
  "language_info": {
   "codemirror_mode": {
    "name": "ipython",
    "version": 3
   },
   "file_extension": ".py",
   "mimetype": "text/x-python",
   "name": "python",
   "nbconvert_exporter": "python",
   "pygments_lexer": "ipython3",
   "version": "3.7.5"
  },
  "pycharm": {
   "stem_cell": {
    "cell_type": "raw",
    "metadata": {
     "collapsed": false
    },
    "source": []
   }
  }
 },
 "nbformat": 4,
 "nbformat_minor": 2
}
